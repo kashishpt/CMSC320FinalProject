{
 "cells": [
  {
   "cell_type": "markdown",
   "metadata": {},
   "source": [
    "# Predicting Car Crash Severity in the United States\n",
    "### Analysis Completed by Vaibhav Sanjay, Kashish Patel"
   ]
  },
  {
   "cell_type": "markdown",
   "metadata": {},
   "source": [
    "# Introduction"
   ]
  },
  {
   "cell_type": "markdown",
   "metadata": {},
   "source": [
    "Car crashes are one of the largest non-illness causes of fatalities among people in the United States. Analysis of car accidents is useful for locating accident-prone regions, analyzing effects of weather, and predicting accidents. We analyze a countrywide dataset of car accidents to understand patterns in car crashes and predict the severity of them based on various parameters such as precipitation, visibility, temperature, and location.\n",
    "\n",
    "We used the [US Accidents (2016-2021)](https://www.kaggle.com/datasets/sobhanmoosavi/us-accidents) dataset on Kaggle for our analysis [[1]](#1). The dataset includes 2.8 million points of accident data from February 2016 to December 2021 and covers 49 states."
   ]
  },
  {
   "cell_type": "markdown",
   "metadata": {},
   "source": [
    "<span style=\"color:#b00c00; font-weight:bold; font-size:larger\">TO REMOVE</span>\n",
    "\n",
    "_Dataset:\n",
    "https://smoosavi.org/datasets/us_accidents_\n",
    "\n",
    "To-do:\n",
    "- ~~time graph~~\n",
    "- ~~state frequency chloropleth~~\n",
    "- something to do with sunset/sunrise?"
   ]
  },
  {
   "cell_type": "markdown",
   "metadata": {},
   "source": [
    "# Data Wrangling\n",
    "This notebook depends on numpy, pandas, matplotlib, plotly, ...."
   ]
  },
  {
   "cell_type": "markdown",
   "metadata": {},
   "source": [
    "## Reading in the Data\n",
    "We start by doing the necessary imports and reading in the data. Note that there is a lot of data so this command and several subsequent commands may take some time to complete."
   ]
  },
  {
   "cell_type": "code",
   "execution_count": 61,
   "metadata": {},
   "outputs": [
    {
     "data": {
      "text/html": [
       "<div>\n",
       "<style scoped>\n",
       "    .dataframe tbody tr th:only-of-type {\n",
       "        vertical-align: middle;\n",
       "    }\n",
       "\n",
       "    .dataframe tbody tr th {\n",
       "        vertical-align: top;\n",
       "    }\n",
       "\n",
       "    .dataframe thead th {\n",
       "        text-align: right;\n",
       "    }\n",
       "</style>\n",
       "<table border=\"1\" class=\"dataframe\">\n",
       "  <thead>\n",
       "    <tr style=\"text-align: right;\">\n",
       "      <th></th>\n",
       "      <th>ID</th>\n",
       "      <th>Severity</th>\n",
       "      <th>Start_Time</th>\n",
       "      <th>End_Time</th>\n",
       "      <th>Start_Lat</th>\n",
       "      <th>Start_Lng</th>\n",
       "      <th>End_Lat</th>\n",
       "      <th>End_Lng</th>\n",
       "      <th>Distance(mi)</th>\n",
       "      <th>Description</th>\n",
       "      <th>...</th>\n",
       "      <th>Roundabout</th>\n",
       "      <th>Station</th>\n",
       "      <th>Stop</th>\n",
       "      <th>Traffic_Calming</th>\n",
       "      <th>Traffic_Signal</th>\n",
       "      <th>Turning_Loop</th>\n",
       "      <th>Sunrise_Sunset</th>\n",
       "      <th>Civil_Twilight</th>\n",
       "      <th>Nautical_Twilight</th>\n",
       "      <th>Astronomical_Twilight</th>\n",
       "    </tr>\n",
       "  </thead>\n",
       "  <tbody>\n",
       "    <tr>\n",
       "      <th>0</th>\n",
       "      <td>A-1</td>\n",
       "      <td>3</td>\n",
       "      <td>2016-02-08 00:37:08</td>\n",
       "      <td>2016-02-08 06:37:08</td>\n",
       "      <td>40.108910</td>\n",
       "      <td>-83.092860</td>\n",
       "      <td>40.112060</td>\n",
       "      <td>-83.031870</td>\n",
       "      <td>3.230</td>\n",
       "      <td>Between Sawmill Rd/Exit 20 and OH-315/Olentang...</td>\n",
       "      <td>...</td>\n",
       "      <td>False</td>\n",
       "      <td>False</td>\n",
       "      <td>False</td>\n",
       "      <td>False</td>\n",
       "      <td>False</td>\n",
       "      <td>False</td>\n",
       "      <td>Night</td>\n",
       "      <td>Night</td>\n",
       "      <td>Night</td>\n",
       "      <td>Night</td>\n",
       "    </tr>\n",
       "    <tr>\n",
       "      <th>1</th>\n",
       "      <td>A-2</td>\n",
       "      <td>2</td>\n",
       "      <td>2016-02-08 05:56:20</td>\n",
       "      <td>2016-02-08 11:56:20</td>\n",
       "      <td>39.865420</td>\n",
       "      <td>-84.062800</td>\n",
       "      <td>39.865010</td>\n",
       "      <td>-84.048730</td>\n",
       "      <td>0.747</td>\n",
       "      <td>At OH-4/OH-235/Exit 41 - Accident.</td>\n",
       "      <td>...</td>\n",
       "      <td>False</td>\n",
       "      <td>False</td>\n",
       "      <td>False</td>\n",
       "      <td>False</td>\n",
       "      <td>False</td>\n",
       "      <td>False</td>\n",
       "      <td>Night</td>\n",
       "      <td>Night</td>\n",
       "      <td>Night</td>\n",
       "      <td>Night</td>\n",
       "    </tr>\n",
       "    <tr>\n",
       "      <th>2</th>\n",
       "      <td>A-3</td>\n",
       "      <td>2</td>\n",
       "      <td>2016-02-08 06:15:39</td>\n",
       "      <td>2016-02-08 12:15:39</td>\n",
       "      <td>39.102660</td>\n",
       "      <td>-84.524680</td>\n",
       "      <td>39.102090</td>\n",
       "      <td>-84.523960</td>\n",
       "      <td>0.055</td>\n",
       "      <td>At I-71/US-50/Exit 1 - Accident.</td>\n",
       "      <td>...</td>\n",
       "      <td>False</td>\n",
       "      <td>False</td>\n",
       "      <td>False</td>\n",
       "      <td>False</td>\n",
       "      <td>False</td>\n",
       "      <td>False</td>\n",
       "      <td>Night</td>\n",
       "      <td>Night</td>\n",
       "      <td>Night</td>\n",
       "      <td>Day</td>\n",
       "    </tr>\n",
       "    <tr>\n",
       "      <th>3</th>\n",
       "      <td>A-4</td>\n",
       "      <td>2</td>\n",
       "      <td>2016-02-08 06:51:45</td>\n",
       "      <td>2016-02-08 12:51:45</td>\n",
       "      <td>41.062130</td>\n",
       "      <td>-81.537840</td>\n",
       "      <td>41.062170</td>\n",
       "      <td>-81.535470</td>\n",
       "      <td>0.123</td>\n",
       "      <td>At Dart Ave/Exit 21 - Accident.</td>\n",
       "      <td>...</td>\n",
       "      <td>False</td>\n",
       "      <td>False</td>\n",
       "      <td>False</td>\n",
       "      <td>False</td>\n",
       "      <td>False</td>\n",
       "      <td>False</td>\n",
       "      <td>Night</td>\n",
       "      <td>Night</td>\n",
       "      <td>Day</td>\n",
       "      <td>Day</td>\n",
       "    </tr>\n",
       "    <tr>\n",
       "      <th>4</th>\n",
       "      <td>A-5</td>\n",
       "      <td>3</td>\n",
       "      <td>2016-02-08 07:53:43</td>\n",
       "      <td>2016-02-08 13:53:43</td>\n",
       "      <td>39.172393</td>\n",
       "      <td>-84.492792</td>\n",
       "      <td>39.170476</td>\n",
       "      <td>-84.501798</td>\n",
       "      <td>0.500</td>\n",
       "      <td>At Mitchell Ave/Exit 6 - Accident.</td>\n",
       "      <td>...</td>\n",
       "      <td>False</td>\n",
       "      <td>False</td>\n",
       "      <td>False</td>\n",
       "      <td>False</td>\n",
       "      <td>False</td>\n",
       "      <td>False</td>\n",
       "      <td>Day</td>\n",
       "      <td>Day</td>\n",
       "      <td>Day</td>\n",
       "      <td>Day</td>\n",
       "    </tr>\n",
       "  </tbody>\n",
       "</table>\n",
       "<p>5 rows × 47 columns</p>\n",
       "</div>"
      ],
      "text/plain": [
       "    ID  Severity           Start_Time             End_Time  Start_Lat  \\\n",
       "0  A-1         3  2016-02-08 00:37:08  2016-02-08 06:37:08  40.108910   \n",
       "1  A-2         2  2016-02-08 05:56:20  2016-02-08 11:56:20  39.865420   \n",
       "2  A-3         2  2016-02-08 06:15:39  2016-02-08 12:15:39  39.102660   \n",
       "3  A-4         2  2016-02-08 06:51:45  2016-02-08 12:51:45  41.062130   \n",
       "4  A-5         3  2016-02-08 07:53:43  2016-02-08 13:53:43  39.172393   \n",
       "\n",
       "   Start_Lng    End_Lat    End_Lng  Distance(mi)  \\\n",
       "0 -83.092860  40.112060 -83.031870         3.230   \n",
       "1 -84.062800  39.865010 -84.048730         0.747   \n",
       "2 -84.524680  39.102090 -84.523960         0.055   \n",
       "3 -81.537840  41.062170 -81.535470         0.123   \n",
       "4 -84.492792  39.170476 -84.501798         0.500   \n",
       "\n",
       "                                         Description  ...  Roundabout Station  \\\n",
       "0  Between Sawmill Rd/Exit 20 and OH-315/Olentang...  ...       False   False   \n",
       "1                 At OH-4/OH-235/Exit 41 - Accident.  ...       False   False   \n",
       "2                   At I-71/US-50/Exit 1 - Accident.  ...       False   False   \n",
       "3                    At Dart Ave/Exit 21 - Accident.  ...       False   False   \n",
       "4                 At Mitchell Ave/Exit 6 - Accident.  ...       False   False   \n",
       "\n",
       "    Stop Traffic_Calming Traffic_Signal Turning_Loop Sunrise_Sunset  \\\n",
       "0  False           False          False        False          Night   \n",
       "1  False           False          False        False          Night   \n",
       "2  False           False          False        False          Night   \n",
       "3  False           False          False        False          Night   \n",
       "4  False           False          False        False            Day   \n",
       "\n",
       "  Civil_Twilight Nautical_Twilight Astronomical_Twilight  \n",
       "0          Night             Night                 Night  \n",
       "1          Night             Night                 Night  \n",
       "2          Night             Night                   Day  \n",
       "3          Night               Day                   Day  \n",
       "4            Day               Day                   Day  \n",
       "\n",
       "[5 rows x 47 columns]"
      ]
     },
     "execution_count": 61,
     "metadata": {},
     "output_type": "execute_result"
    }
   ],
   "source": [
    "# imports\n",
    "import numpy as np\n",
    "import pandas as pd\n",
    "import matplotlib.pyplot as plt\n",
    "import plotly.express as px\n",
    "from statistics import mode\n",
    "\n",
    "data_all = pd.read_csv('./US_Accidents_Dec21_updated.csv', nrows=100)\n",
    "# data_all = pd.read_csv('./US_Accidents_Dec21_updated.csv')\n",
    "data_all.head()"
   ]
  },
  {
   "cell_type": "markdown",
   "metadata": {},
   "source": [
    "The above dataframe has 47 columns. We will not be using all of these columns. Here are the descriptions for all the columns that we are interested in.\n",
    "1. ID - ....."
   ]
  },
  {
   "cell_type": "markdown",
   "metadata": {},
   "source": [
    "## Filtering Columns\n",
    "We remove the rest of the columns. Here are explanations for why each was removed.\n",
    "1. The \"Description\" column is too messy and does not provide much useful information.\n",
    "2. The \"Number\", \"Street\", \"Side\", \"County\", \"Zipcode\", \"Timezone\", and \"Airport_Code\" columns all provide location information that is not as specific as latitude, longitude and city. The \"Country\" column is not useful since this data is for the USA.\n",
    "3. The \"Weather timestamp\" column shows the timestamp that weather data is collected. This is not very significant.\n",
    "4. The \"Nautical_Twilight\" and \"Astronomical_Twilight\" columns are different measure for when sunset occurs, which we decided to just use the sunset measure to keep everything consistent."
   ]
  },
  {
   "cell_type": "code",
   "execution_count": 62,
   "metadata": {},
   "outputs": [],
   "source": [
    "\n",
    "# get data\n",
    "to_remove = [\"Description\", \"Number\", \"Street\", \"Side\", \"County\",\"Country\", \"Zipcode\", \n",
    "    \"Timezone\", \"Airport_Code\", \"Weather_Timestamp\", \"Nautical_Twilight\", \n",
    "    \"Astronomical_Twilight\"]\n",
    "\n",
    "data = data_all.drop(to_remove, axis=1, errors='ignore')"
   ]
  },
  {
   "cell_type": "markdown",
   "metadata": {},
   "source": [
    "Also, it was reported that there was an error in the end times where the duration of each accident was always exactly 6 hours. Here, we will confirm that this information is correct and up to date."
   ]
  },
  {
   "cell_type": "code",
   "execution_count": 63,
   "metadata": {},
   "outputs": [
    {
     "data": {
      "text/plain": [
       "array([21600000000000], dtype='timedelta64[ns]')"
      ]
     },
     "execution_count": 63,
     "metadata": {},
     "output_type": "execute_result"
    }
   ],
   "source": [
    "# convert Start_Time and End_Time to datetime objects\n",
    "data['Start_Time'] = pd.to_datetime(data['Start_Time'])\n",
    "data['End_Time'] = pd.to_datetime(data['End_Time'])\n",
    "\n",
    "# check difference between start and end time\n",
    "durations = data['End_Time'] - data['Start_Time']\n",
    "durations.unique()"
   ]
  },
  {
   "cell_type": "markdown",
   "metadata": {},
   "source": [
    "*NOTE: DATA BEYOND THE FIRST 100 ROWS DO NOT HAVE INCORRECT END TIMES*\n",
    "\n",
    "It seems like the report is correct, so we will drop the End_Time column as it does not provide any new (or correct) information."
   ]
  },
  {
   "cell_type": "code",
   "execution_count": 64,
   "metadata": {},
   "outputs": [],
   "source": [
    "data = data.drop('End_Time', axis=1, errors='ignore')"
   ]
  },
  {
   "cell_type": "markdown",
   "metadata": {},
   "source": [
    "## Encoding"
   ]
  },
  {
   "cell_type": "code",
   "execution_count": 65,
   "metadata": {},
   "outputs": [],
   "source": [
    "# one hot encoding cell\n",
    "data['Roundabout'] = data['Roundabout'].apply(int)"
   ]
  },
  {
   "cell_type": "markdown",
   "metadata": {},
   "source": [
    "# Data Exploration"
   ]
  },
  {
   "cell_type": "markdown",
   "metadata": {},
   "source": [
    "## Graphing Accident Locations\n",
    "We are given the state acronyms for every accident with the \"State\" column. Using this data, we create a chloropleth plot for the frequency of car accidents across the United States."
   ]
  },
  {
   "cell_type": "code",
   "execution_count": 66,
   "metadata": {},
   "outputs": [],
   "source": [
    "# # Change the value_counts into a DataFrame with each row being a state and its number of accidents\n",
    "# freqs = data['State'].value_counts().rename_axis('State').reset_index(name='Accidents')\n",
    "# \n",
    "# # Create the figure\n",
    "# fig = px.choropleth(\n",
    "#         freqs,\n",
    "#         locations='State',\n",
    "#         color='Accidents',\n",
    "#         locationmode='USA-states',\n",
    "#         color_continuous_scale='reds',\n",
    "#         title='Frequency of Car Accidents in the US (2016-2021)',\n",
    "#         scope='usa'\n",
    "# )\n",
    "# \n",
    "# # Show figure\n",
    "# fig.show()"
   ]
  },
  {
   "cell_type": "markdown",
   "metadata": {},
   "source": [
    "[Analysis]\n",
    "\n",
    "Note: Mention how data may be biased since some states may just be better at recording car accidents"
   ]
  },
  {
   "cell_type": "markdown",
   "metadata": {},
   "source": [
    "## Graphing Accident Times\n",
    "Next, we will take advantage of the time-related data to explore when most accidents happen."
   ]
  },
  {
   "cell_type": "markdown",
   "metadata": {},
   "source": [
    "First, we will explore the frequencies of accidents for each day of the week with a bar graph. To create the bar graph, we will first need to convert the Start_Time column to discrete values that represent days of the week in order to properly bin each observation into 7 days. In order to do this, we will take advantage of the dayofweek field for each Timestamp object in the Start_Time column."
   ]
  },
  {
   "cell_type": "code",
   "execution_count": 67,
   "metadata": {},
   "outputs": [],
   "source": [
    "# # create column in DataFrame that represents the day of the week of each observation as an integer 0-6\n",
    "data['Day'] = data['Start_Time'].apply(lambda x: x.dayofweek)\n",
    "# \n",
    "# # use value_counts() to collect the frequencies of accidents for each day\n",
    "# days_freqs = data['Day'].value_counts()\n",
    "# \n",
    "# # plot the frequencies on a bar graph, with each bar representing a day of the week\n",
    "# plt.bar(x=days_freqs.index, height=days_freqs, width=0.4)\n",
    "# plt.xticks(ticks=[0, 1, 2, 3, 4, 5, 6], labels=[\"Monday\", \"Tuesday\", \"Wednesday\", \"Thursday\", \"Friday\", \"Saturday\", \"Sunday\"], rotation=45)\n",
    "# plt.title(\"Frequencies of Car Accidents\")\n",
    "# plt.ylabel(\"Number of Accidents\")\n",
    "# plt.xlabel(\"Day of the week\")\n",
    "# plt.show()"
   ]
  },
  {
   "cell_type": "markdown",
   "metadata": {},
   "source": [
    "[Analysis for after processing all data]"
   ]
  },
  {
   "cell_type": "markdown",
   "metadata": {},
   "source": [
    "Now, we will look at the frequencies of accidents for every hour in a day. We perform operations similar to those in the previous analysis, except instead of using the dayofweek field, we use the hour field on each Timestamp object to bin each observation into 24 bins, each representing an hour in a day in military format. \n",
    "\n",
    "Note, the times recorded are in the local timezone of where the accident occurred. This is fine since we care about when accidents occur relative to the order of events in a single day (for example, hour 9 should always represent the time most people are going to work, hour 17 should always represent the time most people are coming home from work, etc)"
   ]
  },
  {
   "cell_type": "code",
   "execution_count": 68,
   "metadata": {},
   "outputs": [],
   "source": [
    "# # create column in DataFrame that represents the hour in the day of each observation as an integer 0-23\n",
    "data['Hour'] = data['Start_Time'].apply(lambda x: x.hour)\n",
    "# \n",
    "# # get the frequencies of car accidents for each hour of the day\n",
    "# hours_freqs = data['Hour'].value_counts()\n",
    "# \n",
    "# # plot the frequencies on a bar graph, with each bar representing and hour of the day\n",
    "# plt.bar(x=hours_freqs.index, height=hours_freqs, width=0.4)\n",
    "# plt.title(\"Frequencies of Car Accidents Every Hour\")\n",
    "# plt.xlabel(\"Hour (Local Timezone of Accident, Military Format)\")\n",
    "# plt.ylabel(\"Number of Car Accidents\")\n",
    "# plt.show()"
   ]
  },
  {
   "cell_type": "markdown",
   "metadata": {},
   "source": [
    "[Analysis for after processing all data]\n",
    "\n",
    "Note: make sure to mention how data may be biased since some hours may have more accidents simply because there are more cars"
   ]
  },
  {
   "cell_type": "markdown",
   "metadata": {},
   "source": [
    "For our last time-related plot, we will make a violin plot that combines the two previous plots by displaying each day of the week as a separate violin, each as a mini-time series showing when accidents occur most frequently. To do this, we will need to group the data by the day of week first, then collect the hours of each observation for each of these groups."
   ]
  },
  {
   "cell_type": "code",
   "execution_count": 76,
   "metadata": {},
   "outputs": [
    {
     "data": {
      "image/png": "[encoded data removed]",
      "text/plain": [
       "<Figure size 640x480 with 1 Axes>"
      ]
     },
     "metadata": {},
     "output_type": "display_data"
    }
   ],
   "source": [
    "# not sure if this will be useful but ima do it bc why not\n",
    "\n",
    "# create a list of lists with each inner list representing a different day of the week that contains the hours that an accident occurs\n",
    "grouped_by_day = data.groupby(by='Day')\n",
    "hour_foreach_day = grouped_by_day.apply(lambda x: x['Hour'].tolist()).tolist()\n",
    "\n",
    "# create the barebones plot\n",
    "fig, ax = plt.subplots()\n",
    "violins = ax.violinplot(dataset=hour_foreach_day, positions=range(len(hour_foreach_day)), vert=False)\n",
    "\n",
    "# add lines marking the mode for each day, representing the time where most accidents happen\n",
    "bodies = violins['bodies']\n",
    "modes = [mode(x) for x in hour_foreach_day]\n",
    "ax.vlines(modes, list(map(lambda x: x-0.1, range(len(bodies)))), list(map(lambda x: x+0.1, range(len(bodies)))))\n",
    "\n",
    "# add colors to help differentiate each violin\n",
    "colors = [\"#ff6969\", \"#ff9869\", \"#ffeb69\", \"#7fff69\", \"#69c8ff\", \"#9669ff\", \"#ff69c5\"]\n",
    "for i in range(len(bodies)):\n",
    "    bodies[i].set_facecolor(colors[i])\n",
    "\n",
    "# add labels to plot\n",
    "plt.yticks(ticks=[0, 1, 2, 3, 4, 5, 6], labels=[\"Monday\", \"Tuesday\", \"Wednesday\", \"Thursday\", \"Friday\", \"Saturday\", \"Sunday\"])\n",
    "plt.title(\"Car Accidents by Day of the Week over 24 hours\")\n",
    "plt.xlabel(\"Hour (Local Timezone of Accident, Military Format)\")\n",
    "plt.ylabel(\"Day of the Week\")\n",
    "plt.show()"
   ]
  },
  {
   "cell_type": "markdown",
   "metadata": {},
   "source": [
    "## Graphing Accident Weather"
   ]
  },
  {
   "cell_type": "markdown",
   "metadata": {},
   "source": [
    "# Citations\n",
    "- <a id=\"1\">[1]</a> \n",
    "Moosavi, Sobhan, Mohammad Hossein Samavatian, Srinivasan Parthasarathy, and Rajiv Ramnath. “A Countrywide Traffic Accident Dataset.”, 2019.\n",
    "- <a id=\"2\">[2]</a> \n",
    "Moosavi, Sobhan, Mohammad Hossein Samavatian, Srinivasan Parthasarathy, Radu Teodorescu, and Rajiv Ramnath. \"Accident Risk Prediction based on Heterogeneous Sparse Data: New Dataset and Insights.\" In proceedings of the 27th ACM SIGSPATIAL International Conference on Advances in Geographic Information Systems, ACM, 2019."
   ]
  },
  {
   "cell_type": "markdown",
   "metadata": {},
   "source": []
  }
 ],
 "metadata": {
  "kernelspec": {
   "display_name": "Python 3 (ipykernel)",
   "language": "python",
   "name": "python3"
  },
  "language_info": {
   "codemirror_mode": {
    "name": "ipython",
    "version": 3
   },
   "file_extension": ".py",
   "mimetype": "text/x-python",
   "name": "python",
   "nbconvert_exporter": "python",
   "pygments_lexer": "ipython3",
   "version": "3.10.6"
  },
  "vscode": {
   "interpreter": {
    "hash": "b0fa6594d8f4cbf19f97940f81e996739fb7646882a419484c72d19e05852a7e"
   }
  }
 },
 "nbformat": 4,
 "nbformat_minor": 2
}
