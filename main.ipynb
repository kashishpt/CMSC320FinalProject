{
 "cells": [
  {
   "cell_type": "markdown",
   "metadata": {},
   "source": [
    "# Predicting Car Crash Severity in the United States\n",
    "### Analysis Completed by Vaibhav Sanjay and Kashish Patel"
   ]
  },
  {
   "cell_type": "markdown",
   "metadata": {},
   "source": [
    "# Introduction"
   ]
  },
  {
   "cell_type": "markdown",
   "metadata": {},
   "source": [
    "Car crashes are one of the largest non-illness causes of fatalities among people in the United States. Analysis of car accidents is useful for locating accident-prone regions, analyzing effects of weather, and predicting accidents. We analyze a countrywide dataset of car accidents to understand patterns in car crashes and predict the severity of them based on various parameters such as location, precipitation, time, and various other factors.\n",
    "\n",
    "We used the [US Accidents (2016-2021)](https://www.kaggle.com/datasets/sobhanmoosavi/us-accidents) dataset on Kaggle for our analysis [[1]](#1). The dataset includes 2.8 million points of accident data from February 2016 to December 2021 and covers 49 states."
   ]
  },
  {
   "cell_type": "markdown",
   "metadata": {},
   "source": [
    "<span style=\"color:#b00c00; font-weight:bold; font-size:larger\">TO REMOVE</span>\n",
    "\n",
    "_Dataset:\n",
    "https://smoosavi.org/datasets/us_accidents_\n",
    "\n",
    "To-do:\n",
    "- ~~time graph~~\n",
    "- ~~state frequency chloropleth~~\n",
    "- something to do with sunset/sunrise?\n",
    "- add documentation links\n",
    "- add violin plot for severity of accident at certain hour/day\n",
    "- test how much weather condition matters\n",
    "- mention why we are normalizing everything (data values are huge)"
   ]
  },
  {
   "cell_type": "markdown",
   "metadata": {},
   "source": [
    "# Data Wrangling\n",
    "## Imports\n",
    "This notebook depends on numpy, pandas, matplotlib, plotly, and sklearn"
   ]
  },
  {
   "cell_type": "code",
   "execution_count": 20,
   "metadata": {},
   "outputs": [
    {
     "name": "stdout",
     "output_type": "stream",
     "text": [
      "Requirement already satisfied: plotly in /opt/homebrew/lib/python3.10/site-packages (5.11.0)\n",
      "Requirement already satisfied: tenacity>=6.2.0 in /opt/homebrew/lib/python3.10/site-packages (from plotly) (8.1.0)\n",
      "Note: you may need to restart the kernel to use updated packages.\n",
      "Collecting colour\n",
      "  Downloading colour-0.1.5-py2.py3-none-any.whl (23 kB)\n",
      "Installing collected packages: colour\n",
      "Successfully installed colour-0.1.5\n",
      "Note: you may need to restart the kernel to use updated packages.\n"
     ]
    }
   ],
   "source": [
    "# Run this if plotly isn't installed\n",
    "%pip install plotly\n",
    "%pip install colour"
   ]
  },
  {
   "cell_type": "code",
   "execution_count": 22,
   "metadata": {},
   "outputs": [],
   "source": [
    "# imports\n",
    "import numpy as np\n",
    "import pandas as pd\n",
    "import matplotlib.pyplot as plt\n",
    "from matplotlib import rcParams as plt_params\n",
    "from matplotlib.pyplot import figure\n",
    "import plotly.express as px\n",
    "from statistics import mode\n",
    "from sklearn.tree import DecisionTreeRegressor\n",
    "from sklearn.ensemble import RandomForestRegressor\n",
    "import plotly.io as pio\n",
    "from colour import Color\n",
    "pio.renderers.default = 'iframe'"
   ]
  },
  {
   "cell_type": "markdown",
   "metadata": {},
   "source": [
    "## Reading in the Data & Initial Steps\n",
    "We start by reading in the data from our downloaded CSV file. Note that there is _a lot_ of data, so running this cell and most others make take a few seconds to complete."
   ]
  },
  {
   "cell_type": "code",
   "execution_count": 11,
   "metadata": {},
   "outputs": [],
   "source": [
    "data = pd.read_csv('./US_Accidents_Dec21_updated.csv', nrows=100)\n",
    "# data = pd.read_csv('./US_Accidents_Dec21_updated.csv')"
   ]
  },
  {
   "cell_type": "markdown",
   "metadata": {},
   "source": [
    "This cell sets up some variables used throughout the analysis for styling our plots."
   ]
  },
  {
   "cell_type": "code",
   "execution_count": 45,
   "metadata": {},
   "outputs": [],
   "source": [
    "color_scheme = [\"#FEF001\", \"#FFCE03\", \"#FD9A01\", \"#FD6104\", \"#FF2C05\", \"#F00505\", \"#B50404\"]\n",
    "def gen_colors(lst, low=\"yellow\", high=\"darkorange\", middle=None):\n",
    "    gradient = gradient = list(Color(low).range_to(high, len(lst)))\n",
    "    srted = sorted(lst)\n",
    "    colors = []\n",
    "    for item in lst:\n",
    "        colors.append(gradient[srted.index(item)])\n",
    "    return [color.hex for color in colors]\n",
    "\n",
    "plt_params['figure.dpi'] = 75"
   ]
  },
  {
   "cell_type": "markdown",
   "metadata": {},
   "source": [
    "First, we will get familiar with how our data is structured."
   ]
  },
  {
   "cell_type": "code",
   "execution_count": 5,
   "metadata": {},
   "outputs": [
    {
     "data": {
      "text/plain": [
       "Index(['ID', 'Severity', 'Start_Time', 'End_Time', 'Start_Lat', 'Start_Lng',\n",
       "       'End_Lat', 'End_Lng', 'Distance(mi)', 'Description', 'Number', 'Street',\n",
       "       'Side', 'City', 'County', 'State', 'Zipcode', 'Country', 'Timezone',\n",
       "       'Airport_Code', 'Weather_Timestamp', 'Temperature(F)', 'Wind_Chill(F)',\n",
       "       'Humidity(%)', 'Pressure(in)', 'Visibility(mi)', 'Wind_Direction',\n",
       "       'Wind_Speed(mph)', 'Precipitation(in)', 'Weather_Condition', 'Amenity',\n",
       "       'Bump', 'Crossing', 'Give_Way', 'Junction', 'No_Exit', 'Railway',\n",
       "       'Roundabout', 'Station', 'Stop', 'Traffic_Calming', 'Traffic_Signal',\n",
       "       'Turning_Loop', 'Sunrise_Sunset', 'Civil_Twilight', 'Nautical_Twilight',\n",
       "       'Astronomical_Twilight'],\n",
       "      dtype='object')"
      ]
     },
     "execution_count": 5,
     "metadata": {},
     "output_type": "execute_result"
    }
   ],
   "source": [
    "data.columns"
   ]
  },
  {
   "cell_type": "markdown",
   "metadata": {},
   "source": [
    "So each accident has its own ID as well as some important contextual information such as a start time, end time, location, and weather information. Let's take a look at our raw data as a dataframe."
   ]
  },
  {
   "cell_type": "code",
   "execution_count": 7,
   "metadata": {},
   "outputs": [
    {
     "data": {
      "text/html": [
       "<div>\n",
       "<style scoped>\n",
       "    .dataframe tbody tr th:only-of-type {\n",
       "        vertical-align: middle;\n",
       "    }\n",
       "\n",
       "    .dataframe tbody tr th {\n",
       "        vertical-align: top;\n",
       "    }\n",
       "\n",
       "    .dataframe thead th {\n",
       "        text-align: right;\n",
       "    }\n",
       "</style>\n",
       "<table border=\"1\" class=\"dataframe\">\n",
       "  <thead>\n",
       "    <tr style=\"text-align: right;\">\n",
       "      <th></th>\n",
       "      <th>ID</th>\n",
       "      <th>Severity</th>\n",
       "      <th>Start_Time</th>\n",
       "      <th>End_Time</th>\n",
       "      <th>Start_Lat</th>\n",
       "      <th>Start_Lng</th>\n",
       "      <th>End_Lat</th>\n",
       "      <th>End_Lng</th>\n",
       "      <th>Distance(mi)</th>\n",
       "      <th>Description</th>\n",
       "      <th>...</th>\n",
       "      <th>Roundabout</th>\n",
       "      <th>Station</th>\n",
       "      <th>Stop</th>\n",
       "      <th>Traffic_Calming</th>\n",
       "      <th>Traffic_Signal</th>\n",
       "      <th>Turning_Loop</th>\n",
       "      <th>Sunrise_Sunset</th>\n",
       "      <th>Civil_Twilight</th>\n",
       "      <th>Nautical_Twilight</th>\n",
       "      <th>Astronomical_Twilight</th>\n",
       "    </tr>\n",
       "  </thead>\n",
       "  <tbody>\n",
       "    <tr>\n",
       "      <th>0</th>\n",
       "      <td>A-1</td>\n",
       "      <td>3</td>\n",
       "      <td>2016-02-08 00:37:08</td>\n",
       "      <td>2016-02-08 06:37:08</td>\n",
       "      <td>40.108910</td>\n",
       "      <td>-83.092860</td>\n",
       "      <td>40.112060</td>\n",
       "      <td>-83.031870</td>\n",
       "      <td>3.230</td>\n",
       "      <td>Between Sawmill Rd/Exit 20 and OH-315/Olentang...</td>\n",
       "      <td>...</td>\n",
       "      <td>False</td>\n",
       "      <td>False</td>\n",
       "      <td>False</td>\n",
       "      <td>False</td>\n",
       "      <td>False</td>\n",
       "      <td>False</td>\n",
       "      <td>Night</td>\n",
       "      <td>Night</td>\n",
       "      <td>Night</td>\n",
       "      <td>Night</td>\n",
       "    </tr>\n",
       "    <tr>\n",
       "      <th>1</th>\n",
       "      <td>A-2</td>\n",
       "      <td>2</td>\n",
       "      <td>2016-02-08 05:56:20</td>\n",
       "      <td>2016-02-08 11:56:20</td>\n",
       "      <td>39.865420</td>\n",
       "      <td>-84.062800</td>\n",
       "      <td>39.865010</td>\n",
       "      <td>-84.048730</td>\n",
       "      <td>0.747</td>\n",
       "      <td>At OH-4/OH-235/Exit 41 - Accident.</td>\n",
       "      <td>...</td>\n",
       "      <td>False</td>\n",
       "      <td>False</td>\n",
       "      <td>False</td>\n",
       "      <td>False</td>\n",
       "      <td>False</td>\n",
       "      <td>False</td>\n",
       "      <td>Night</td>\n",
       "      <td>Night</td>\n",
       "      <td>Night</td>\n",
       "      <td>Night</td>\n",
       "    </tr>\n",
       "    <tr>\n",
       "      <th>2</th>\n",
       "      <td>A-3</td>\n",
       "      <td>2</td>\n",
       "      <td>2016-02-08 06:15:39</td>\n",
       "      <td>2016-02-08 12:15:39</td>\n",
       "      <td>39.102660</td>\n",
       "      <td>-84.524680</td>\n",
       "      <td>39.102090</td>\n",
       "      <td>-84.523960</td>\n",
       "      <td>0.055</td>\n",
       "      <td>At I-71/US-50/Exit 1 - Accident.</td>\n",
       "      <td>...</td>\n",
       "      <td>False</td>\n",
       "      <td>False</td>\n",
       "      <td>False</td>\n",
       "      <td>False</td>\n",
       "      <td>False</td>\n",
       "      <td>False</td>\n",
       "      <td>Night</td>\n",
       "      <td>Night</td>\n",
       "      <td>Night</td>\n",
       "      <td>Day</td>\n",
       "    </tr>\n",
       "    <tr>\n",
       "      <th>3</th>\n",
       "      <td>A-4</td>\n",
       "      <td>2</td>\n",
       "      <td>2016-02-08 06:51:45</td>\n",
       "      <td>2016-02-08 12:51:45</td>\n",
       "      <td>41.062130</td>\n",
       "      <td>-81.537840</td>\n",
       "      <td>41.062170</td>\n",
       "      <td>-81.535470</td>\n",
       "      <td>0.123</td>\n",
       "      <td>At Dart Ave/Exit 21 - Accident.</td>\n",
       "      <td>...</td>\n",
       "      <td>False</td>\n",
       "      <td>False</td>\n",
       "      <td>False</td>\n",
       "      <td>False</td>\n",
       "      <td>False</td>\n",
       "      <td>False</td>\n",
       "      <td>Night</td>\n",
       "      <td>Night</td>\n",
       "      <td>Day</td>\n",
       "      <td>Day</td>\n",
       "    </tr>\n",
       "    <tr>\n",
       "      <th>4</th>\n",
       "      <td>A-5</td>\n",
       "      <td>3</td>\n",
       "      <td>2016-02-08 07:53:43</td>\n",
       "      <td>2016-02-08 13:53:43</td>\n",
       "      <td>39.172393</td>\n",
       "      <td>-84.492792</td>\n",
       "      <td>39.170476</td>\n",
       "      <td>-84.501798</td>\n",
       "      <td>0.500</td>\n",
       "      <td>At Mitchell Ave/Exit 6 - Accident.</td>\n",
       "      <td>...</td>\n",
       "      <td>False</td>\n",
       "      <td>False</td>\n",
       "      <td>False</td>\n",
       "      <td>False</td>\n",
       "      <td>False</td>\n",
       "      <td>False</td>\n",
       "      <td>Day</td>\n",
       "      <td>Day</td>\n",
       "      <td>Day</td>\n",
       "      <td>Day</td>\n",
       "    </tr>\n",
       "  </tbody>\n",
       "</table>\n",
       "<p>5 rows × 47 columns</p>\n",
       "</div>"
      ],
      "text/plain": [
       "    ID  Severity           Start_Time             End_Time  Start_Lat  \\\n",
       "0  A-1         3  2016-02-08 00:37:08  2016-02-08 06:37:08  40.108910   \n",
       "1  A-2         2  2016-02-08 05:56:20  2016-02-08 11:56:20  39.865420   \n",
       "2  A-3         2  2016-02-08 06:15:39  2016-02-08 12:15:39  39.102660   \n",
       "3  A-4         2  2016-02-08 06:51:45  2016-02-08 12:51:45  41.062130   \n",
       "4  A-5         3  2016-02-08 07:53:43  2016-02-08 13:53:43  39.172393   \n",
       "\n",
       "   Start_Lng    End_Lat    End_Lng  Distance(mi)  \\\n",
       "0 -83.092860  40.112060 -83.031870         3.230   \n",
       "1 -84.062800  39.865010 -84.048730         0.747   \n",
       "2 -84.524680  39.102090 -84.523960         0.055   \n",
       "3 -81.537840  41.062170 -81.535470         0.123   \n",
       "4 -84.492792  39.170476 -84.501798         0.500   \n",
       "\n",
       "                                         Description  ...  Roundabout Station  \\\n",
       "0  Between Sawmill Rd/Exit 20 and OH-315/Olentang...  ...       False   False   \n",
       "1                 At OH-4/OH-235/Exit 41 - Accident.  ...       False   False   \n",
       "2                   At I-71/US-50/Exit 1 - Accident.  ...       False   False   \n",
       "3                    At Dart Ave/Exit 21 - Accident.  ...       False   False   \n",
       "4                 At Mitchell Ave/Exit 6 - Accident.  ...       False   False   \n",
       "\n",
       "    Stop Traffic_Calming Traffic_Signal Turning_Loop Sunrise_Sunset  \\\n",
       "0  False           False          False        False          Night   \n",
       "1  False           False          False        False          Night   \n",
       "2  False           False          False        False          Night   \n",
       "3  False           False          False        False          Night   \n",
       "4  False           False          False        False            Day   \n",
       "\n",
       "  Civil_Twilight Nautical_Twilight Astronomical_Twilight  \n",
       "0          Night             Night                 Night  \n",
       "1          Night             Night                 Night  \n",
       "2          Night             Night                   Day  \n",
       "3          Night               Day                   Day  \n",
       "4            Day               Day                   Day  \n",
       "\n",
       "[5 rows x 47 columns]"
      ]
     },
     "execution_count": 7,
     "metadata": {},
     "output_type": "execute_result"
    }
   ],
   "source": [
    "data.head()"
   ]
  },
  {
   "cell_type": "markdown",
   "metadata": {},
   "source": [
    "## Initial Filtering\n",
    "\n",
    "We can see that some of these columns are not important/relevant to our analysis. Here is a list of these columns and explanations of why we don't need them:\n",
    "\n",
    "- \"Description\" - too messy and does not provide much useful information.\n",
    "- \"Number\", \"Street\", \"Side\", \"County\", \"Zipcode\", \"Timezone\", and \"Airport_Code\" - all provide location information that is not as specific as latitude, longitude and city.\n",
    "- \"Country\" - not useful as this dataset only looks at the US\n",
    "- \"End_Lat\" and \"End_Lng\" - since we already have the start latitude and longitudes as well as the distance, these features are not very important\n",
    "- \"Weather timestamp\" - shows the timestamp that weather data is collected. This is not very significant.\n",
    "- \"Nautical_Twilight\" and \"Astronomical_Twilight\" - different measure for when sunset occurs, which we decided to just use the sunset measure to keep everything consistent."
   ]
  },
  {
   "cell_type": "code",
   "execution_count": 6,
   "metadata": {},
   "outputs": [],
   "source": [
    "# list of all features we are removing right now\n",
    "to_remove = [\"Description\", \"Number\", \"Street\", \"Side\", \"County\",\"Country\", \"Zipcode\", \n",
    "    \"Timezone\", \"End_Lat\", \"End_Lng\", \"Airport_Code\", \"Weather_Timestamp\", \"Nautical_Twilight\", \n",
    "    \"Astronomical_Twilight\"]\n",
    "\n",
    "# remove the necessary columns\n",
    "data = data.drop(to_remove, axis=1, errors='ignore')"
   ]
  },
  {
   "cell_type": "markdown",
   "metadata": {},
   "source": [
    "## Encoding\n",
    "**Not sure why we are doing this lol**"
   ]
  },
  {
   "cell_type": "code",
   "execution_count": 7,
   "metadata": {},
   "outputs": [],
   "source": [
    "# one hot encoding cell\n",
    "data['Roundabout'] = data['Roundabout'].apply(int)"
   ]
  },
  {
   "cell_type": "markdown",
   "metadata": {},
   "source": [
    "# Data Exploration\n",
    "Now we are ready to analyze our data. From the list of columns, it seems good to analyze the number of accidents as well as the severity of accidents as dependent variables on every other column."
   ]
  },
  {
   "cell_type": "markdown",
   "metadata": {},
   "source": [
    "## Graphing Accident Locations\n",
    "We are given the state acronyms for every accident with the \"State\" column. Using this data, we create a chloropleth plot for the frequency of car accidents across the United States, grouped by state."
   ]
  },
  {
   "cell_type": "code",
   "execution_count": 8,
   "metadata": {},
   "outputs": [
    {
     "data": {
      "text/html": [
       "<iframe\n",
       "    scrolling=\"no\"\n",
       "    width=\"100%\"\n",
       "    height=\"545px\"\n",
       "    src=\"iframe_figures/figure_8.html\"\n",
       "    frameborder=\"0\"\n",
       "    allowfullscreen\n",
       "></iframe>\n"
      ]
     },
     "metadata": {},
     "output_type": "display_data"
    }
   ],
   "source": [
    "# gather the frequencies of car accidents for each state into a DataFrame\",\n",
    "freqs = data['State'].value_counts().rename_axis('State').reset_index(name='Accidents')\n",
    "\n",
    "# create the map\n",
    "fig = px.choropleth(\n",
    "    freqs,\n",
    "    locations='State',\n",
    "    color='Accidents',\n",
    "    locationmode='USA-states',\n",
    "    color_continuous_scale='blues',\n",
    "    title='Frequency of Car Accidents in the US (2016-2021)',\n",
    "    scope='usa'\n",
    ")\n",
    "\n",
    "fig.show()"
   ]
  },
  {
   "cell_type": "markdown",
   "metadata": {},
   "source": [
    "The above map shows which states have the highest frequencies of car accidents, with darker shades of blue indicating higher frequencies and lighter shades indicating a lower frequency.\n",
    "\n",
    "We can see that states like California and Florida have the highest frequency of car accidents, according to our dataset. But, we have to consider different factors that may cause this. First and foremost, these states have high population relative to the other states, so that may play a large role in their high frequencies of car accidents. Second, these states may just be better at reporting accidents than other states, so even if other states had much more accidents, they may just go unreported.\n",
    "\n",
    "As a result of this, we will now look at the average severity of car accidents in each state. This will tell us which states have, on average, the most severe car accidents and will minimize any bias towards certain states that comes from doing a simple frequency map."
   ]
  },
  {
   "cell_type": "code",
   "execution_count": 24,
   "metadata": {},
   "outputs": [
    {
     "data": {
      "text/html": [
       "<iframe\n",
       "    scrolling=\"no\"\n",
       "    width=\"100%\"\n",
       "    height=\"545px\"\n",
       "    src=\"iframe_figures/figure_24.html\"\n",
       "    frameborder=\"0\"\n",
       "    allowfullscreen\n",
       "></iframe>\n"
      ]
     },
     "metadata": {},
     "output_type": "display_data"
    }
   ],
   "source": [
    "# Average the severity of the accidents of car accidents for each state\n",
    "severity = pd.DataFrame(data.groupby(by='State').apply(lambda x: x['Severity'].mean())).reset_index()\n",
    "severity.columns = ['State', 'Severity']\n",
    "\n",
    "# Create the figure\n",
    "fig = px.choropleth(\n",
    "        severity,\n",
    "        locations='State',\n",
    "        color='Severity',\n",
    "        locationmode='USA-states',\n",
    "        color_continuous_scale='reds',\n",
    "        title='Severity of Car Accidents in the US by State (2016-2021)',\n",
    "        scope='usa'\n",
    ")\n",
    " \n",
    "fig.show()"
   ]
  },
  {
   "cell_type": "markdown",
   "metadata": {},
   "source": [
    "This is notably different from the previous map. We can see that while Wisconsin may have notably few accidents they typically have more severe accidents as compared to other states. Furthermore, midwestern states such as Wyoming and Colorado also have high severity accidents, while states near the borders seems to have less severe accidents."
   ]
  },
  {
   "cell_type": "markdown",
   "metadata": {},
   "source": [
    "## Graphing Accident Times\n",
    "Next, we will take advantage of the time-related data to explore when most accidents happen."
   ]
  },
  {
   "cell_type": "markdown",
   "metadata": {},
   "source": [
    "### Accidents on Days of the Week\n",
    "We will make a violin plot that combines the two previous plots by displaying each day of the week as a separate violin, each as a mini-time series showing when accidents occur most frequently. To do this, we will need to group the data by the day of week first, then collect the hours of each observation for each of these groups."
   ]
  },
  {
   "cell_type": "code",
   "execution_count": 14,
   "metadata": {},
   "outputs": [
    {
     "data": {
      "image/png": "[encoded data removed]",
      "text/plain": [
       "<Figure size 1125x450 with 1 Axes>"
      ]
     },
     "metadata": {},
     "output_type": "display_data"
    }
   ],
   "source": [
    "# Turn the start times into actual datetimes\n",
    "data['Start_Time'] = pd.to_datetime(data['Start_Time'], infer_datetime_format=True)\n",
    "\n",
    "# create a list of lists with each inner list representing a different day of the week that contains the hours that an accident occurs\n",
    "data['Day'] = data['Start_Time'].apply(lambda x: x.dayofweek)\n",
    "data['Hour'] = data['Start_Time'].apply(lambda x: x.hour)\n",
    "grouped_by_day = data.groupby(by='Day')\n",
    "hour_foreach_day = grouped_by_day.apply(lambda x: x['Hour'].tolist()).tolist()\n",
    "\n",
    "# create the violin plot\n",
    "plt_params['figure.figsize'] = (15, 6)\n",
    "fig, ax = plt.subplots()\n",
    "violins = ax.violinplot(dataset=hour_foreach_day, positions=range(len(hour_foreach_day)), vert=False)\n",
    "\n",
    "# add lines marking the mode for each day, representing the time where most accidents happen\n",
    "bodies = violins['bodies']\n",
    "modes = [mode(x) for x in hour_foreach_day]\n",
    "ax.vlines(modes, list(map(lambda x: x-0.1, range(len(bodies)))), list(map(lambda x: x+0.1, range(len(bodies)))))\n",
    "\n",
    "# add colors to help differentiate each violin\n",
    "for i in range(len(bodies)):\n",
    "    bodies[i].set_facecolor(color_scheme[i % 3 + 1])\n",
    "    bodies[i].set_alpha(0.5)\n",
    "\n",
    "# add labels to plot\n",
    "plt.yticks(ticks=[0, 1, 2, 3, 4, 5, 6], labels=[\"Monday\", \"Tuesday\", \"Wednesday\", \"Thursday\", \"Friday\", \"Saturday\", \"Sunday\"])\n",
    "plt.title(\"Car Accidents by Day of the Week over 24 hours\")\n",
    "plt.xlabel(\"Local Time\")\n",
    "plt.ylabel(\"Day of the Week\")\n",
    "plt.xticks(ticks=[0, 3, 6, 9, 12, 15, 18, 21], labels=[\"12am\", \"3am\", \"6am\", \"9am\", \"12pm\", \"3pm\", \"6pm\", \"9pm\"])\n",
    "plt.show()"
   ]
  },
  {
   "cell_type": "markdown",
   "metadata": {},
   "source": [
    "This graph makes sense if we take some prior assumptions into account. On the weekdays we can see humps at around 7-8am and again around 4pm. On the weekends we see more humps at midday and in the afternoon. This coincides with times when people usually go to work, leave work, and go out on weekends. During these times there are likely to be more cars on the road, leading to more accidents."
   ]
  },
  {
   "cell_type": "markdown",
   "metadata": {},
   "source": [
    "### Accidents Over the Past Few Years\n",
    "We can look at the times that accidents happen more generally. Let's consider the average severity of accidents over the entire timespan. We take the average accident severity for each year of collected data from 2016-2021."
   ]
  },
  {
   "cell_type": "code",
   "execution_count": 46,
   "metadata": {},
   "outputs": [
    {
     "data": {
      "image/png": "[encoded data removed]",
      "text/plain": [
       "<Figure size 1125x450 with 1 Axes>"
      ]
     },
     "metadata": {},
     "output_type": "display_data"
    }
   ],
   "source": [
    "data['Year'] = data['Start_Time'].apply(lambda x: x.year)\n",
    "grouped_by_year = data.groupby(by='Year')\n",
    "severities = grouped_by_year.apply(lambda x: x['Severity'].mean())\n",
    "plt.bar(height=severities, x=severities.index, width=0.5, color=gen_colors(severities, \"yellow\", \"orange\"))\n",
    "plt.xticks(range(2016, 2022))\n",
    "plt.title('Average Severity of Car Accidents Per Year')\n",
    "plt.xlabel('Year')\n",
    "plt.ylabel('Severity')\n",
    "plt.show()"
   ]
  },
  {
   "cell_type": "markdown",
   "metadata": {},
   "source": [
    "It seems like accident severity has been tending down over the last four years. There may be no significant reason for this, but one possibility is that there were less cars on the road over the COVID-19 time period."
   ]
  },
  {
   "cell_type": "markdown",
   "metadata": {},
   "source": [
    "## Graphing Accident Weather\n",
    "We have a lot of columns related to weather. We proceed by making some graphs based on the weather conditions during accidents."
   ]
  },
  {
   "cell_type": "markdown",
   "metadata": {},
   "source": [
    "First we consider the `Weather_Condition` column. We can take a look at the different values in this column."
   ]
  },
  {
   "cell_type": "code",
   "execution_count": 14,
   "metadata": {},
   "outputs": [],
   "source": [
    "data['Weather_Condition'].value_counts().to_csv('weather_conditions.csv') # Open weather_conditions.csv to look for yourself"
   ]
  },
  {
   "cell_type": "markdown",
   "metadata": {},
   "source": [
    "There are quite a lot of different values to analyze. Let's take a look at the top 6 most common conditions and compare the number of accidents for each of them."
   ]
  },
  {
   "cell_type": "code",
   "execution_count": 48,
   "metadata": {},
   "outputs": [
    {
     "data": {
      "image/png": "[encoded data removed]",
      "text/plain": [
       "<Figure size 1125x450 with 1 Axes>"
      ]
     },
     "metadata": {},
     "output_type": "display_data"
    }
   ],
   "source": [
    "data.groupby(['Weather_Condition', 'Severity']).size().unstack().sort_values(\n",
    "    by=2, ascending=False)[:6].plot(kind='bar', stacked=True, xlabel='Frequency', ylabel='Weather Condition', color=gen_colors(range(3), \"yellow\", \"orange\"))\n",
    "plt.xticks(rotation = 0)\n",
    "plt.title('Severity of Car Accidents at Various Weather Conditions', fontsize=10)\n",
    "plt.show()"
   ]
  },
  {
   "cell_type": "markdown",
   "metadata": {},
   "source": [
    "If we take a closer look at the weather conditions, some of them are very similar to each other (What's the difference between \"Thunder\" and \"T-Storm\"?). We make broader categories for some of these weather conditions so we can analyze them better. The categories we chose are\n",
    "- Snow (Anything related to snow, winter, freezing, hail, or ice)\n",
    "- Rain (Anything related to rain, drizzle, thunder, storm, or precipitation)\n",
    "- Cloudy (Anything related to cloud or overcast)\n",
    "- Clear (Anything related to clear or fair)"
   ]
  },
  {
   "cell_type": "code",
   "execution_count": 51,
   "metadata": {},
   "outputs": [],
   "source": [
    "def classify_weather(weather, keywords):\n",
    "    # check if the data is missing (nan)\n",
    "    if type(weather) != str:\n",
    "        return 0\n",
    "    return int(any(x in weather for x in keywords))\n",
    "\n",
    "# The list of weather options\n",
    "# Feel free to edit this dict to add more options!\n",
    "weathers = {'Snow': ['Snow', 'Freez', 'Hail', 'Ice', 'Wint'], 'Rain': ['Rain', 'Drizzle', 'Thunder', 'Storm', 'Precipitation'],\n",
    "            'Cloudy': ['Cloud', 'Overcast'], 'Clear': ['Clear', 'Fair']}\n",
    "\n",
    "# Make a new column for each weather option\n",
    "# For each accident, \"1\" means the weather condition had the keyword for this weather option, else \"0\"\n",
    "for key, value in weathers.items():\n",
    "    data[key] = data['Weather_Condition'].apply(lambda x: classify_weather(x, value))"
   ]
  },
  {
   "cell_type": "markdown",
   "metadata": {},
   "source": [
    "Now we compare the severity of accidents based on the selected weather conditions."
   ]
  },
  {
   "cell_type": "code",
   "execution_count": 55,
   "metadata": {},
   "outputs": [
    {
     "data": {
      "image/png": "[encoded data removed]",
      "text/plain": [
       "<Figure size 1125x450 with 1 Axes>"
      ]
     },
     "metadata": {},
     "output_type": "display_data"
    }
   ],
   "source": [
    "# Take the mean for each weather option\n",
    "weather_counts = pd.Series([data[data[x] == 1]['Severity'].mean() for x in weathers.keys()])\n",
    "\n",
    "# Plot the graph\n",
    "fix, ax = plt.subplots()\n",
    "bars = ax.bar(weathers.keys(), weather_counts, color=gen_colors(weather_counts, \"yellow\", \"darkorange\"))\n",
    "ax.bar_label(bars)\n",
    "plt.title(\"Severity of Car Accidents by Weather Condition\")\n",
    "plt.xlabel(\"Weather Condition\")\n",
    "plt.ylabel(\"Severity\")\n",
    "plt.show()"
   ]
  },
  {
   "cell_type": "markdown",
   "metadata": {},
   "source": [
    "From this bar chart it is not very clear what the difference in weathers really is in terms of accident severity. We can tell that snowy accidents are probably more severe than clear ones, but it's not clear if this is statistically significant. However, since we are dealing with over a million data points, the small differences might add up. Let's normalize this data and plot it again."
   ]
  },
  {
   "cell_type": "code",
   "execution_count": 32,
   "metadata": {},
   "outputs": [
    {
     "data": {
      "image/png": "[encoded data removed]",
      "text/plain": [
       "<Figure size 1125x450 with 1 Axes>"
      ]
     },
     "metadata": {},
     "output_type": "display_data"
    }
   ],
   "source": [
    "fix, ax = plt.subplots()\n",
    "\n",
    "# Plot the normalized graph\n",
    "bars = ax.bar(weathers.keys(), (weather_counts - weather_counts.mean())/weather_counts.std(), color=gen_colors((weather_counts - weather_counts.mean())/weather_counts.std(), \"blue\", \"red\"))\n",
    "ax.bar_label(bars)\n",
    "plt.title(\"Severity of Car Accidents by Weather Condition\")\n",
    "plt.xlabel(\"Weather Condition\")\n",
    "plt.ylabel(\"Severity (normalized)\")\n",
    "plt.show()"
   ]
  },
  {
   "cell_type": "markdown",
   "metadata": {},
   "source": [
    "Now we can see a clear difference in the severity. When the weather is clear, accidents are on average less severe than on days with rain or snow."
   ]
  },
  {
   "cell_type": "code",
   "execution_count": 18,
   "metadata": {},
   "outputs": [],
   "source": [
    "# plt.bar(height=data.groupby('Weather_Condition').apply(lambda x: x['Severity'].mean()), x=data.groupby('Weather_Condition').apply(lambda x: x['Severity'].mean()).index)\n",
    "# plt.show()\n",
    "def plot_sevs(df, feature, normalize=True):\n",
    "    sevs = data.groupby(feature).apply(lambda x: x['Severity'].mean())\n",
    "    if normalize:\n",
    "        sevs = (sevs - sevs.mean())/sevs.std()\n",
    "    plt.bar(height=sevs, x=sevs.index)\n",
    "    plt.show()"
   ]
  },
  {
   "cell_type": "code",
   "execution_count": 28,
   "metadata": {},
   "outputs": [
    {
     "data": {
      "text/plain": [
       "\"\\nweather_features = ['Temperature(F)',\\n       'Wind_Chill(F)', 'Humidity(%)', 'Pressure(in)', 'Visibility(mi)',\\n       'Wind_Direction', 'Wind_Speed(mph)', 'Precipitation(in)',\\n       'Weather_Condition']\\n\\ndef plot_freqs(feature):\\n    counts = data[feature].value_counts()\\n    plt.scatter(x=counts.index, y=counts)\\n    plt.title(feature)\\n    plt.show()\\n\\nfor feat in weather_features:\\n    plot_freqs(feat)\\n\\ndata[weather_features].corr()\\n\""
      ]
     },
     "execution_count": 28,
     "metadata": {},
     "output_type": "execute_result"
    }
   ],
   "source": [
    "'''\n",
    "weather_features = ['Temperature(F)',\n",
    "       'Wind_Chill(F)', 'Humidity(%)', 'Pressure(in)', 'Visibility(mi)',\n",
    "       'Wind_Direction', 'Wind_Speed(mph)', 'Precipitation(in)',\n",
    "       'Weather_Condition']\n",
    "\n",
    "def plot_freqs(feature):\n",
    "    counts = data[feature].value_counts()\n",
    "    plt.scatter(x=counts.index, y=counts)\n",
    "    plt.title(feature)\n",
    "    plt.show()\n",
    "\n",
    "for feat in weather_features:\n",
    "    plot_freqs(feat)\n",
    "\n",
    "data[weather_features].corr()\n",
    "'''"
   ]
  },
  {
   "cell_type": "markdown",
   "metadata": {},
   "source": [
    "# Training the Model\n",
    "Next, we train a model that predicts accident severity based on the other data points given. We expect the model to use elements such as weather, temperature, and location to make predictions on the accident severity."
   ]
  },
  {
   "cell_type": "code",
   "execution_count": null,
   "metadata": {},
   "outputs": [],
   "source": [
    "# model = RandomForestRegressor(random_state=42)\n",
    "# model.fit(data.drop(['ID', 'Severity', 'Start_Time', 'City', 'State', 'Wind_Direction'], axis=1), data['Severity'])\n",
    "# model.score(data.drop(['ID', 'Severity', 'Start_Time', 'City'], axis=1))"
   ]
  },
  {
   "cell_type": "markdown",
   "metadata": {},
   "source": [
    "# Citations\n",
    "- <a id=\"1\">[1]</a> \n",
    "Moosavi, Sobhan, Mohammad Hossein Samavatian, Srinivasan Parthasarathy, and Rajiv Ramnath. “A Countrywide Traffic Accident Dataset.”, 2019.\n",
    "- <a id=\"2\">[2]</a> \n",
    "Moosavi, Sobhan, Mohammad Hossein Samavatian, Srinivasan Parthasarathy, Radu Teodorescu, and Rajiv Ramnath. \"Accident Risk Prediction based on Heterogeneous Sparse Data: New Dataset and Insights.\" In proceedings of the 27th ACM SIGSPATIAL International Conference on Advances in Geographic Information Systems, ACM, 2019."
   ]
  },
  {
   "cell_type": "markdown",
   "metadata": {},
   "source": []
  }
 ],
 "metadata": {
  "kernelspec": {
   "display_name": "Python 3 (ipykernel)",
   "language": "python",
   "name": "python3"
  },
  "language_info": {
   "codemirror_mode": {
    "name": "ipython",
    "version": 3
   },
   "file_extension": ".py",
   "mimetype": "text/x-python",
   "name": "python",
   "nbconvert_exporter": "python",
   "pygments_lexer": "ipython3",
   "version": "3.10.6"
  },
  "vscode": {
   "interpreter": {
    "hash": "b0fa6594d8f4cbf19f97940f81e996739fb7646882a419484c72d19e05852a7e"
   }
  }
 },
 "nbformat": 4,
 "nbformat_minor": 4
}
